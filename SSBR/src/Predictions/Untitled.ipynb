{
 "cells": [
  {
   "cell_type": "code",
   "execution_count": 1,
   "metadata": {},
   "outputs": [],
   "source": [
    "## script for EBV correlation \n",
    "using JWAS, Statistics, DataFrames, CSV\n"
   ]
  },
  {
   "cell_type": "code",
   "execution_count": null,
   "metadata": {},
   "outputs": [],
   "source": [
    "### pseudo script from cluster \n",
    "ebv_path = \"../\"\n",
    "ebv= CSV.read(ebv_path,separator='\\t',names=[:a_id,:ebv])                                                                                                                                                                                                                                                                                                                                                data=readtable(data_path,nastrings=[\"-999\"]);                                                                                                                                                                                                                                                                                                                                                                                                                                                                                                                                                                  sel= (data[:pou].==3869) .& (data[Symbol(whichtrait*\"_adjPhen\")].!== missing) .& (data[:genotyped].!==0);                                                                                            data=data[sel,[:a_id,Symbol(whichtrait*\"_adjPhen\")]]                                                                                                                                                                                                                                                                                                                                                      out=join(data,ebv,on=:a_id)                                                                                                                                                                          \n",
    "println(\"Prediction accuracy for \"*whichtrait*\" is: \",cor(out[:ebv],out[Symbol(whichtrait*\"_adjPhen\")]))       "
   ]
  }
 ],
 "metadata": {
  "kernelspec": {
   "display_name": "Julia 0.7.0",
   "language": "julia",
   "name": "julia-0.7"
  },
  "language_info": {
   "file_extension": ".jl",
   "mimetype": "application/julia",
   "name": "julia",
   "version": "0.7.0"
  }
 },
 "nbformat": 4,
 "nbformat_minor": 2
}
