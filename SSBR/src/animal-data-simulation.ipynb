{
 "cells": [
  {
   "cell_type": "code",
   "execution_count": 1,
   "metadata": {},
   "outputs": [
    {
     "name": "stderr",
     "output_type": "stream",
     "text": [
      "┌ Info: Recompiling stale cache file C:\\Users\\adhal\\.julia\\compiled\\v0.7\\XSim\\fVVb1.ji for XSim [3d41126b-a46a-5bdb-b7a1-7ea6cc35a8ef]\n",
      "└ @ Base loading.jl:1185\n"
     ]
    }
   ],
   "source": [
    "using StatsBase, Distributions, LinearAlgebra, XSim, JWAS, DataFrames, CSV, DelimitedFiles"
   ]
  },
  {
   "cell_type": "code",
   "execution_count": 2,
   "metadata": {},
   "outputs": [],
   "source": [
    "#set genome information for chromosome\n",
    "\n",
    "chrLength= 0.1  #length of each chromosome \n",
    "numChr   = 2    #number of chromosomes\n",
    "nmarkers = 2000   #number of loci for each chromosome\n",
    "nQTL     = 30 #number of QTL for each chromosomefects,mutRate);\n",
    "build_genome(numChr,chrLength,nmarkers,nQTL)"
   ]
  },
  {
   "cell_type": "code",
   "execution_count": 3,
   "metadata": {},
   "outputs": [
    {
     "name": "stdout",
     "output_type": "stream",
     "text": [
      "Sampling 100 animals into base population.\n",
      "Sampling 100 animals into base population.\n",
      "Generation     2: sampling    50 males and    50 females\n"
     ]
    }
   ],
   "source": [
    "# generate 4 generations\n",
    "\n",
    "#generation 0\n",
    "#generate founders\n",
    "popSizeFounder = 100\n",
    "sires = sampleFounders(popSizeFounder);\n",
    "dams  = sampleFounders(popSizeFounder);\n",
    "\n",
    "#random mating\n",
    "ngen,popSize = 1,100\n",
    "sires1,dams1,gen1 = sampleRan(popSize, ngen, sires, dams);"
   ]
  },
  {
   "cell_type": "code",
   "execution_count": 4,
   "metadata": {},
   "outputs": [
    {
     "name": "stdout",
     "output_type": "stream",
     "text": [
      "Generation     2: sampling    50 males and    50 females\n"
     ]
    }
   ],
   "source": [
    "ngen, popSize=1, 100\n",
    "sires2,dams2,gen2 = sampleRan(popSize, ngen, sires1, dams1);"
   ]
  },
  {
   "cell_type": "code",
   "execution_count": 5,
   "metadata": {},
   "outputs": [
    {
     "name": "stdout",
     "output_type": "stream",
     "text": [
      "Generation     2: sampling   150 males and   150 females\n"
     ]
    }
   ],
   "source": [
    "ngen, popSize=1, 300\n",
    "sires3,dams3,gen3 = sampleRan(popSize, ngen, sires2, dams2);"
   ]
  },
  {
   "cell_type": "code",
   "execution_count": 6,
   "metadata": {},
   "outputs": [
    {
     "name": "stdout",
     "output_type": "stream",
     "text": [
      "Generation     2: sampling   500 males and   500 females\n"
     ]
    }
   ],
   "source": [
    "ngen, popSize= 1, 1000\n",
    "sires4,dams4,gen4 = sampleRan(popSize, ngen, sires3, dams3);\n"
   ]
  },
  {
   "cell_type": "code",
   "execution_count": 7,
   "metadata": {},
   "outputs": [
    {
     "name": "stdout",
     "output_type": "stream",
     "text": [
      "Generation     2: sampling   800 males and   800 females\n"
     ]
    }
   ],
   "source": [
    "ngen, popSize = 1, 1600\n",
    "sires5, dams5, gen5 = sampleRan(popSize, ngen, sires4, dams4);"
   ]
  },
  {
   "cell_type": "code",
   "execution_count": 8,
   "metadata": {},
   "outputs": [],
   "source": [
    "#collect the animals data \n",
    "animals = concatCohorts(sires5,dams5);"
   ]
  },
  {
   "cell_type": "code",
   "execution_count": 9,
   "metadata": {},
   "outputs": [],
   "source": [
    "#get genotypes\n",
    "M = getOurGenotypes(animals);\n",
    "#get phenotypes\n",
    "Phen = getOurPhenVals(animals, 1.0);\n",
    "#get pedigree\n",
    "Ped = getPedigree(animals);"
   ]
  },
  {
   "cell_type": "code",
   "execution_count": 10,
   "metadata": {},
   "outputs": [],
   "source": [
    "#write out\n",
    "Phenotypes = DataFrame();\n",
    "Phenotypes[:y] = Phen;\n",
    "\n",
    "CSV.write(\"Phenotypes-ssbr1.txt\", Phenotypes)\n",
    "writedlm(\"Genotypes-ssbr1.txt\", M)\n",
    "writedlm(\"Pedigree-ss.txt\", Ped)"
   ]
  },
  {
   "cell_type": "code",
   "execution_count": 11,
   "metadata": {},
   "outputs": [
    {
     "data": {
      "text/plain": [
       "1600×3 Array{Int64,2}:\n",
       " 1701  1139  1389\n",
       " 1702   963  1590\n",
       " 1703   799  1223\n",
       " 1704   751  1540\n",
       " 1705  1129  1596\n",
       " 1706   738  1314\n",
       " 1707  1199  1234\n",
       " 1708  1043  1445\n",
       " 1709   794  1658\n",
       " 1710  1124  1452\n",
       " 1711  1116  1340\n",
       " 1712  1061  1631\n",
       " 1713   753  1306\n",
       "    ⋮            \n",
       " 3289  1184  1293\n",
       " 3290  1111  1554\n",
       " 3291  1048  1409\n",
       " 3292   886  1288\n",
       " 3293  1049  1458\n",
       " 3294  1037  1687\n",
       " 3295  1197  1289\n",
       " 3296  1067  1246\n",
       " 3297   946  1657\n",
       " 3298   788  1624\n",
       " 3299   852  1644\n",
       " 3300   912  1639"
      ]
     },
     "execution_count": 11,
     "metadata": {},
     "output_type": "execute_result"
    }
   ],
   "source": [
    "getPedigree(animals)"
   ]
  },
  {
   "cell_type": "code",
   "execution_count": null,
   "metadata": {},
   "outputs": [],
   "source": []
  }
 ],
 "metadata": {
  "kernelspec": {
   "display_name": "Julia 0.7.0",
   "language": "julia",
   "name": "julia-0.7"
  },
  "language_info": {
   "file_extension": ".jl",
   "mimetype": "application/julia",
   "name": "julia",
   "version": "0.7.0"
  }
 },
 "nbformat": 4,
 "nbformat_minor": 2
}
