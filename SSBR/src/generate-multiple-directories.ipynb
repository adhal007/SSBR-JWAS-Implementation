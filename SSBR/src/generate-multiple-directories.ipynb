{
 "cells": [
  {
   "cell_type": "code",
   "execution_count": null,
   "metadata": {},
   "outputs": [],
   "source": [
    "def make_multiple_dirs(n):\n",
    "    import os\n",
    "    pathname = 0\n",
    "    directory = \"C:/Users/adhal/Single-Step-Methods/SSBR/src/Simulation-Strategies/ss-GBLUP-simulation-strategy-9/\" + str(pathname)\n",
    "\n",
    "    while pathname < n:\n",
    "        if not os.path.exists(directory):\n",
    "            os.makedirs(directory)\n",
    "            pathname += 1  \n",
    "            directory = \"C:/Users/adhal/Single-Step-Methods/SSBR/src/Simulation-Strategies/ss-GBLUP-simulation-strategy-9/\" + 'XSim-Data' + str(pathname)"
   ]
  }
 ],
 "metadata": {
  "kernelspec": {
   "display_name": "Python 3",
   "language": "python",
   "name": "python3"
  },
  "language_info": {
   "codemirror_mode": {
    "name": "ipython",
    "version": 3
   },
   "file_extension": ".py",
   "mimetype": "text/x-python",
   "name": "python",
   "nbconvert_exporter": "python",
   "pygments_lexer": "ipython3",
   "version": "3.7.1"
  }
 },
 "nbformat": 4,
 "nbformat_minor": 2
}
