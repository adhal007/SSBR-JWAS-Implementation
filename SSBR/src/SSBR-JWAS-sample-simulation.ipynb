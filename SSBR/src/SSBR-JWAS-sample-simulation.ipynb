{
 "cells": [
  {
   "cell_type": "code",
   "execution_count": 1,
   "metadata": {},
   "outputs": [],
   "source": [
    "using JWAS,JWAS.Datasets,DataFrames,CSV, LinearAlgebra, DelimitedFiles, Profile, ProfileView"
   ]
  },
  {
   "cell_type": "code",
   "execution_count": 2,
   "metadata": {},
   "outputs": [],
   "source": [
    "#load input files from XSim\n",
    "phenofile = readdlm(\"../Data-Sim\\\\Phenotypes-ssbr1.txt\");\n",
    "genofile = readdlm(\"../Data-Sim\\\\Genotypes-ssbr1.txt\");\n",
    "pedfile = readdlm(\"../Data-Sim\\\\Pedigree-ss.txt\");\n",
    "\n"
   ]
  },
  {
   "cell_type": "code",
   "execution_count": null,
   "metadata": {},
   "outputs": [],
   "source": [
    "# no spaces in final file formats"
   ]
  },
  {
   "cell_type": "code",
   "execution_count": 14,
   "metadata": {},
   "outputs": [
    {
     "data": {
      "text/plain": [
       "ped_ssbr_convert_1 (generic function with 1 method)"
      ]
     },
     "execution_count": 14,
     "metadata": {},
     "output_type": "execute_result"
    }
   ],
   "source": [
    "#remove spaces after 1st function\n",
    "function ped_ssbr_convert_1(pedfile)\n",
    "    ## pedfile input in only one format\n",
    "    ped_Array = Array{String}(undef, 1601);\n",
    "    ped_Array[1] = \"ID,Sire,Dam\";\n",
    "    temp_arr = Array{String}(undef, 3)\n",
    "    ## convert the pedigree array from Float64 to Int and append the header to the file\n",
    "    ## For Pedigree file IDs, Sires and Dams must be string in format\n",
    "    f = (x) -> Int(x);\n",
    "    @time for i in 1:1600\n",
    "        y = pedfile[i, :]\n",
    "        y = f.(y)\n",
    "        y = string(y)\n",
    "        z = \"\"\n",
    "        s = split(y, \"\")\n",
    "        l = length(s)\n",
    "        for j in 1:length(s)\n",
    "            if j !== 1 && j !== length(s) && y[j] !== ' '\n",
    "             z = z*y[j]\n",
    "            end\n",
    "        end\n",
    "        # this converts \"[1, 2, 3]\" to \"1, 2, 3\"\n",
    "        ped_Array[i + 1] = z\n",
    "    end\n",
    "    return ped_Array\n",
    "end"
   ]
  },
  {
   "cell_type": "code",
   "execution_count": 15,
   "metadata": {},
   "outputs": [
    {
     "name": "stdout",
     "output_type": "stream",
     "text": [
      "  0.032309 seconds (223.65 k allocations: 11.380 MiB)\n"
     ]
    },
    {
     "data": {
      "text/plain": [
       "1601-element Array{String,1}:\n",
       " \"ID,Sire,Dam\"   \n",
       " \"1701,1041,1362\"\n",
       " \"1702,1141,1376\"\n",
       " \"1703,894,1463\" \n",
       " \"1704,972,1265\" \n",
       " \"1705,764,1295\" \n",
       " \"1706,825,1290\" \n",
       " \"1707,1108,1676\"\n",
       " \"1708,886,1626\" \n",
       " \"1709,1168,1564\"\n",
       " \"1710,762,1348\" \n",
       " \"1711,941,1385\" \n",
       " \"1712,1102,1622\"\n",
       " ⋮               \n",
       " \"3289,1115,1265\"\n",
       " \"3290,1147,1666\"\n",
       " \"3291,1114,1567\"\n",
       " \"3292,782,1375\" \n",
       " \"3293,866,1434\" \n",
       " \"3294,1145,1448\"\n",
       " \"3295,740,1307\" \n",
       " \"3296,1194,1399\"\n",
       " \"3297,820,1400\" \n",
       " \"3298,1077,1655\"\n",
       " \"3299,995,1389\" \n",
       " \"3300,897,1235\" "
      ]
     },
     "execution_count": 15,
     "metadata": {},
     "output_type": "execute_result"
    }
   ],
   "source": [
    "ped_out_1 = ped_ssbr_convert_1(readdlm(\"../Data-Sim\\\\Pedigree-ss.txt\"))"
   ]
  },
  {
   "cell_type": "code",
   "execution_count": 63,
   "metadata": {},
   "outputs": [
    {
     "data": {
      "text/plain": [
       "\"a[1,a2,a3]\""
      ]
     },
     "execution_count": 63,
     "metadata": {},
     "output_type": "execute_result"
    }
   ],
   "source": [
    "### first transform \"[1, 2, 3]\" to \"1, 2, 3\" \n",
    "### then transform \"1, 2, 3\" to \"1,2,3\"\n",
    "x = \"1, 2, 3\";\n",
    "x =  split(x, ' ');\n",
    "#\n",
    "x = \"a\" .* x\n",
    "#x\n",
    "# split(x[2], \"\")\n",
    "## combine into \"a1,a2,a3\"\n",
    "x[1]*x[2]*x[3]\n"
   ]
  },
  {
   "cell_type": "code",
   "execution_count": 80,
   "metadata": {},
   "outputs": [
    {
     "data": {
      "text/plain": [
       "ped_ssbr_append_char (generic function with 1 method)"
      ]
     },
     "execution_count": 80,
     "metadata": {},
     "output_type": "execute_result"
    }
   ],
   "source": [
    "\n",
    "function ped_ssbr_append_char(ped_Array)\n",
    "    #f1 = (x) -> x*\"a\";\n",
    "    ## split the file into components\n",
    "    new_Arr = Array{String}(undef, 1601);\n",
    "        \n",
    "    for j in 2:1601\n",
    "        #temp = string(ped_Array[j])\n",
    "        #println(temp)\n",
    "        x = split(string(ped_Array[j]), \",\")\n",
    "        #println(length(x))\n",
    "        x = \"a\" .* x\n",
    "        #println(x)\n",
    "        new_Arr[j] = x[1]*\",\"*x[2]*\",\"*x[3]\n",
    "    end\n",
    "    new_Arr[1] = \"ID,sire,dam\"\n",
    "    return new_Arr\n",
    "end"
   ]
  },
  {
   "cell_type": "code",
   "execution_count": 81,
   "metadata": {},
   "outputs": [
    {
     "data": {
      "text/plain": [
       "1601-element Array{String,1}:\n",
       " \"ID,sire,dam\"      \n",
       " \"a1701,a1041,a1362\"\n",
       " \"a1702,a1141,a1376\"\n",
       " \"a1703,a894,a1463\" \n",
       " \"a1704,a972,a1265\" \n",
       " \"a1705,a764,a1295\" \n",
       " \"a1706,a825,a1290\" \n",
       " \"a1707,a1108,a1676\"\n",
       " \"a1708,a886,a1626\" \n",
       " \"a1709,a1168,a1564\"\n",
       " \"a1710,a762,a1348\" \n",
       " \"a1711,a941,a1385\" \n",
       " \"a1712,a1102,a1622\"\n",
       " ⋮                  \n",
       " \"a3289,a1115,a1265\"\n",
       " \"a3290,a1147,a1666\"\n",
       " \"a3291,a1114,a1567\"\n",
       " \"a3292,a782,a1375\" \n",
       " \"a3293,a866,a1434\" \n",
       " \"a3294,a1145,a1448\"\n",
       " \"a3295,a740,a1307\" \n",
       " \"a3296,a1194,a1399\"\n",
       " \"a3297,a820,a1400\" \n",
       " \"a3298,a1077,a1655\"\n",
       " \"a3299,a995,a1389\" \n",
       " \"a3300,a897,a1235\" "
      ]
     },
     "execution_count": 81,
     "metadata": {},
     "output_type": "execute_result"
    }
   ],
   "source": [
    "ped_ssbr_append_char(ped_copy)"
   ]
  },
  {
   "cell_type": "code",
   "execution_count": null,
   "metadata": {},
   "outputs": [],
   "source": [
    "###################################################################################\n",
    "## Do similar conversion for genotypes except keep the values from 2:end - {Float}\n",
    "## create a copy of the phenofile\n",
    "## PHENOTYPE FILE FORMATTING\n",
    "function pheno_ssbr_format(phenofile)\n",
    "    pheno_copy = phenofile;\n",
    "\n",
    "    ## extract rowIDs and convert to Int \n",
    "    rowIDs = Array{Any}(undef, 1601);\n",
    "    rowIDs[2:end] = pedfile[:, 1];\n",
    "    rowIDs[1] = \"ID\";\n",
    "    f = (x) -> Int(x);\n",
    "    for i in 2:1601\n",
    "        rowIDs[i] = f.(rowIDs[i])\n",
    "    end\n",
    "    \n",
    "    \n",
    "#     f2 = (x) -> string(x);\n",
    "#     for i in 2:1601\n",
    "#         rowIDs[i] = f2.(rowIDs[i])\n",
    "#     end\n",
    "    ## for Ids in phenotype, genotype and pedigree add a string \"a\"\n",
    "    for i in 2:1601\n",
    "        rowIDs[i] = \"a\"*string(rowIDs[i])\n",
    "    end\n",
    "    \n",
    "    ## concatenate the rowIDs\n",
    "    pheno_cat = hcat(rowIDs, pheno_copy)\n",
    "    pheno_array = Array{String}(undef, 1601)\n",
    "    pheno_array[1] = \"ID, y\"\n",
    "    for j in 2:1601\n",
    "        m1 = pheno_cat[j, 2];\n",
    "        m2 = string(m1);\n",
    "        \n",
    "        pheno_array[j] = pheno_cat[j, 1]*\",\"*m2 \n",
    "    end\n",
    "    return pheno_array\n",
    "end"
   ]
  },
  {
   "cell_type": "code",
   "execution_count": 86,
   "metadata": {},
   "outputs": [
    {
     "data": {
      "text/plain": [
       "geno_ssbr_format (generic function with 1 method)"
      ]
     },
     "execution_count": 86,
     "metadata": {},
     "output_type": "execute_result"
    }
   ],
   "source": [
    "#################################################################################\n",
    "## GENOTYPE FILE FORMATTING\n",
    "## use the genotype file and do same transformation for genotypes\n",
    "## genotype script \n",
    "function geno_ssbr_format(genofile)\n",
    "    geno_copy = genofile;\n",
    "    pedfile = readdlm(\"../Data-Sim\\\\Pedigree-ss.txt\");\n",
    "\n",
    "    ## Add rowIDs(hcat) and marker IDs(vcat)\n",
    "    ## extract rowIDs and convert to Int and then to string \n",
    "    rowIDs = Array{Any}(undef, 1601);\n",
    "    rowIDs[2:end] = pedfile[:, 1];\n",
    "    rowIDs[1] = \"ID\";\n",
    "    f = (x) -> Int(x);\n",
    "    for i in 2:1601\n",
    "        rowIDs[i] = f.(rowIDs[i])\n",
    "    end\n",
    "\n",
    "#     f2 = (x) -> string(x);\n",
    "#     for i in 2:1601\n",
    "#         rowIDs[i] = f2.(rowIDs[i])\n",
    "#     end\n",
    "    for i in 2:1601\n",
    "        rowIDs[i] = \"a\"*string(rowIDs[i])\n",
    "    end\n",
    "    \n",
    "    ## hcat rowIDs\n",
    "    geno_cat1 = Array{Any}(1601, 4001);\n",
    "    geno_cat1[2:1601, :] = hcat(rowIDs[2:1601], geno_copy)\n",
    "    println(\"genotype file concatenated with ID's: \", \"a1, 1, 0, 2\")\n",
    "    \n",
    "    ## add markerIDs and vcat\n",
    "    empty_l = Array{String}(undef, 4000)\n",
    "    empty_l[1] = \"ID\"\n",
    "    empty_l[2:4000] = repeat([\"m\"], 3999)\n",
    "\n",
    "    for i in 2:4000\n",
    "        empty_l[i] = empty_l[i] * \"$(i-1)\"\n",
    "    end\n",
    "    \n",
    "    len = 3999\n",
    "    println(\"$len markerIDs created\")\n",
    "    ## Header split for genotype file\n",
    "    H_split = \"\"\n",
    "    for j in 1:4000\n",
    "        H_split = H_split*empty_l[j]        \n",
    "        if j == 4000\n",
    "            H_split = H_split\n",
    "        else\n",
    "            H_split = H_split*\",\"\n",
    "        end\n",
    "    end\n",
    "    println(\"markerIDs split into:\", \"ID, m1, m2, m3\", H_split )\n",
    "    ## return the H_split for 1st column of geno_formatted\n",
    "    \n",
    "    \n",
    "    ## Main split for genotype file \n",
    "    ## Main Split\n",
    "    ## convert the float to Int and then string split \n",
    "    f = x -> Int(x);\n",
    "    geno_string = Array{String}(undef, 1601);\n",
    "    @time for j in 2:1601\n",
    "        v = geno_cat1[j, 2:end]\n",
    "        #println(v)\n",
    "        v = f.(v)\n",
    "        v = string(v)\n",
    "        v = split(v, \"\")\n",
    "        len = length(v)\n",
    "        z = \"\"\n",
    "        #println(v)\n",
    "        for i in 1:len\n",
    "            if i !== 1 && i !== 2 && i !== 3 && i !== len\n",
    "                z = z*v[i]\n",
    "            end\n",
    "        end\n",
    "        #println(z)\n",
    "#         geno_string[j] = string(rowIDs[j])\n",
    "#         #println(geno_string[j])\n",
    "#         geno_string[j] = geno_string[j]*\",\"*z\n",
    "#         #println(geno_string[j])\n",
    "        geno_string[j] = rowIDs[j]*\",\"*z\n",
    "    end\n",
    "    println(\"Matrix split into\", \"a1, 0, 1, 2\")\n",
    "    geno_string[1] = H_split\n",
    "    return  geno_string, rowIDs\n",
    "end"
   ]
  },
  {
   "cell_type": "markdown",
   "metadata": {},
   "source": [
    "## Test the formatting functions on XSim data"
   ]
  },
  {
   "cell_type": "code",
   "execution_count": 82,
   "metadata": {},
   "outputs": [
    {
     "name": "stdout",
     "output_type": "stream",
     "text": [
      "  0.031947 seconds (223.65 k allocations: 11.380 MiB, 24.32% gc time)\n"
     ]
    },
    {
     "data": {
      "text/plain": [
       "1601-element Array{String,1}:\n",
       " \"ID,sire,dam\"      \n",
       " \"a1701,a1041,a1362\"\n",
       " \"a1702,a1141,a1376\"\n",
       " \"a1703,a894,a1463\" \n",
       " \"a1704,a972,a1265\" \n",
       " \"a1705,a764,a1295\" \n",
       " \"a1706,a825,a1290\" \n",
       " \"a1707,a1108,a1676\"\n",
       " \"a1708,a886,a1626\" \n",
       " \"a1709,a1168,a1564\"\n",
       " \"a1710,a762,a1348\" \n",
       " \"a1711,a941,a1385\" \n",
       " \"a1712,a1102,a1622\"\n",
       " ⋮                  \n",
       " \"a3289,a1115,a1265\"\n",
       " \"a3290,a1147,a1666\"\n",
       " \"a3291,a1114,a1567\"\n",
       " \"a3292,a782,a1375\" \n",
       " \"a3293,a866,a1434\" \n",
       " \"a3294,a1145,a1448\"\n",
       " \"a3295,a740,a1307\" \n",
       " \"a3296,a1194,a1399\"\n",
       " \"a3297,a820,a1400\" \n",
       " \"a3298,a1077,a1655\"\n",
       " \"a3299,a995,a1389\" \n",
       " \"a3300,a897,a1235\" "
      ]
     },
     "execution_count": 82,
     "metadata": {},
     "output_type": "execute_result"
    }
   ],
   "source": [
    "#Testing pedigree output\n",
    "ped_Array = ped_ssbr_convert_1(pedfile);\n",
    "ped_out = ped_ssbr_append_char(ped_Array)"
   ]
  },
  {
   "cell_type": "code",
   "execution_count": 43,
   "metadata": {},
   "outputs": [
    {
     "data": {
      "text/plain": [
       "1601-element Array{String,1}:\n",
       " \"ID,Sire,Dam\"   \n",
       " \"1701,1041,1362\"\n",
       " \"1702,1141,1376\"\n",
       " \"1703,894,1463\" \n",
       " \"1704,972,1265\" \n",
       " \"1705,764,1295\" \n",
       " \"1706,825,1290\" \n",
       " \"1707,1108,1676\"\n",
       " \"1708,886,1626\" \n",
       " \"1709,1168,1564\"\n",
       " \"1710,762,1348\" \n",
       " \"1711,941,1385\" \n",
       " \"1712,1102,1622\"\n",
       " ⋮               \n",
       " \"3289,1115,1265\"\n",
       " \"3290,1147,1666\"\n",
       " \"3291,1114,1567\"\n",
       " \"3292,782,1375\" \n",
       " \"3293,866,1434\" \n",
       " \"3294,1145,1448\"\n",
       " \"3295,740,1307\" \n",
       " \"3296,1194,1399\"\n",
       " \"3297,820,1400\" \n",
       " \"3298,1077,1655\"\n",
       " \"3299,995,1389\" \n",
       " \"3300,897,1235\" "
      ]
     },
     "execution_count": 43,
     "metadata": {},
     "output_type": "execute_result"
    }
   ],
   "source": [
    "ped_copy = ped_Array"
   ]
  },
  {
   "cell_type": "code",
   "execution_count": null,
   "metadata": {},
   "outputs": [],
   "source": [
    "#Testing Phenotype output\n",
    "pheno_out = pheno_ssbr_format(phenofile)"
   ]
  },
  {
   "cell_type": "code",
   "execution_count": null,
   "metadata": {},
   "outputs": [],
   "source": []
  },
  {
   "cell_type": "code",
   "execution_count": null,
   "metadata": {},
   "outputs": [],
   "source": []
  },
  {
   "cell_type": "code",
   "execution_count": 83,
   "metadata": {},
   "outputs": [],
   "source": [
    "## write output of XSIM_converted pedigree file\n",
    "f_ped = open(\"ped_XSim_out.txt\", \"w\");\n",
    "writedlm(f_ped, ped_out);\n",
    "close(f_ped)"
   ]
  },
  {
   "cell_type": "code",
   "execution_count": null,
   "metadata": {},
   "outputs": [],
   "source": [
    "## write output of XSim converted genotype file\n",
    "f_pheno = open(\"pheno_XSim_out.txt\", \"w\");\n",
    "writedlm(f_pheno, pheno_out);\n",
    "close(f_pheno)"
   ]
  },
  {
   "cell_type": "code",
   "execution_count": null,
   "metadata": {},
   "outputs": [],
   "source": [
    "f_geno = open(\"geno_XSim_out.txt\", \"w\");\n",
    "writedlm(f_geno, geno_test1);\n",
    "close(f_geno)"
   ]
  },
  {
   "cell_type": "code",
   "execution_count": 90,
   "metadata": {},
   "outputs": [
    {
     "name": "stdout",
     "output_type": "stream",
     "text": [
      "Finished!\n"
     ]
    }
   ],
   "source": [
    "using JWAS,JWAS.Datasets,DataFrames,CSV, LinearAlgebra\n",
    "\n",
    "phenofile  = \"./pheno_XSim_out.txt\" #Datasets.dataset(\"example\",\"phenotypes_ssbr.txt\")\n",
    "pedfile    = \"./ped_XSim_out.txt\" #Datasets.dataset(\"example\",\"pedigree.txt\")\n",
    "genofile   = \"./geno_XSim_out.txt\"#Datasets.dataset(\"example\",\"genotypes.txt\")\n",
    "\n",
    "phenotypes = CSV.read(phenofile,delim = ',',header=true)\n",
    "pedigree   = get_pedigree(pedfile,separator=\",\",header=true);"
   ]
  },
  {
   "cell_type": "code",
   "execution_count": 92,
   "metadata": {},
   "outputs": [
    {
     "name": "stdout",
     "output_type": "stream",
     "text": [
      "3999 markers on 1600 individuals were added.\n",
      "\n",
      "The prior for marker effects variance is calculated from the genetic variance and π. The mean of the prior for the marker effects variance is: 0.010166\n",
      "\n",
      "\n",
      "A Linear Mixed Model was build using model equations:\n",
      "\n",
      "y = intercept\n",
      "\n",
      "Model Information:\n",
      "\n",
      "Term            C/F          F/R            nLevels\n",
      "intercept       factor       fixed                1\n",
      "ϵ               factor       random             964\n",
      "J               covariate    fixed                1\n",
      "\n",
      "MCMC Information:\n",
      "\n",
      "methods                                      BayesC\n",
      "chain_length                                  50000\n",
      "burnin                                            0\n",
      "estimatePi                                     true\n",
      "starting_value                                false\n",
      "printout_frequency                            50001\n",
      "output_samples_frequency                        100\n",
      "constraint                                    false\n",
      "missing_phenotypes                             true\n",
      "update_priors_frequency                           0\n",
      "\n",
      "Hyper-parameters Information: \n",
      "\n",
      "random effect variances (ϵ):                  [1.0]\n",
      "residual variances:                           1.000\n",
      "genetic variances (genomic):                  0.010\n",
      "marker effect variances:                      0.010\n",
      "π                                              0.95\n",
      "\n",
      "Degree of freedom for hyper-parameters:\n",
      "\n",
      "residual variances:                           4.000\n",
      "iid random effect variances:                  4.000\n",
      "marker effect variances:                      4.000\n",
      "\n",
      "\n",
      "\n",
      "\u001b[31mThe file MCMC_samples_residual_variance.txt already exists!!! It is overwritten by the new output.\u001b[39m\n",
      "\u001b[31mThe file MCMC_samples_marker_effects_y.txt already exists!!! It is overwritten by the new output.\u001b[39m\n",
      "\u001b[31mThe file MCMC_samples_marker_effects_variances.txt already exists!!! It is overwritten by the new output.\u001b[39m\n",
      "\u001b[31mThe file MCMC_samples_pi.txt already exists!!! It is overwritten by the new output.\u001b[39m\n",
      "\u001b[31mThe file MCMC_samples_ϵ_variances.txt already exists!!! It is overwritten by the new output.\u001b[39m\n"
     ]
    },
    {
     "name": "stderr",
     "output_type": "stream",
     "text": [
      "\u001b[32mrunning MCMC for BayesC...100%|█████████████████████████| Time: 0:07:04\u001b[39m\n"
     ]
    },
    {
     "ename": "KeyError",
     "evalue": "KeyError: key \"EBV_y_2\" not found",
     "output_type": "error",
     "traceback": [
      "KeyError: key \"EBV_y_2\" not found",
      "",
      "Stacktrace:",
      " [1] getindex(::Dict{Any,Any}, ::String) at .\\dict.jl:478",
      " [2] top-level scope at In[92]:23"
     ]
    }
   ],
   "source": [
    "model_equation1  =\"y = intercept\";\n",
    "\n",
    "R      = 1.0\n",
    "model1 = build_model(model_equation1,R);\n",
    "\n",
    "# set_covariate(model1,\"x1\");\n",
    "\n",
    "# G1 = 1.0\n",
    "# G2 = [1.0 0.5\n",
    "#        0.5 1.0]\n",
    "# set_random(model1,\"x2\",G1);\n",
    "# set_random(model1,\"ID dam\",pedigree,G2);\n",
    "\n",
    "G3 =1.0\n",
    "add_genotypes(model1,genofile,G3,separator=',');\n",
    "\n",
    "outputEBV(model1, [\"a1701\",\"a1702\",\"a1703\"]);\n",
    "outputMCMCsamples(model1)\n",
    "out2=runMCMC(model1,Pi=0.95,estimatePi=true,phenotypes,methods=\"BayesC\",single_step_analysis=true,\n",
    "    pedigree=pedigree,chain_length=50000,output_samples_frequency=100,outputEBV=true, missing_phenotypes=true);\n",
    "\n",
    "keys(out2)\n",
    "\n",
    "out2[\"EBV_y_2\"]\n",
    "\n",
    "out2[\"Posterior mean of marker effects\"]\n"
   ]
  },
  {
   "cell_type": "code",
   "execution_count": 89,
   "metadata": {},
   "outputs": [
    {
     "name": "stdout",
     "output_type": "stream",
     "text": [
      "search: \u001b[0m\u001b[1mr\u001b[22m\u001b[0m\u001b[1mu\u001b[22m\u001b[0m\u001b[1mn\u001b[22m\u001b[0m\u001b[1mM\u001b[22m\u001b[0m\u001b[1mC\u001b[22m\u001b[0m\u001b[1mM\u001b[22m\u001b[0m\u001b[1mC\u001b[22m\n",
      "\n"
     ]
    },
    {
     "data": {
      "text/latex": [
       "\\begin{verbatim}\n",
       "runMCMC(mme,df;Pi=0.0,estimatePi=false,chain_length=1000,burnin = 0,starting_value=false,printout_frequency=100,\n",
       "missing_phenotypes=false,constraint=false,methods=\"conventional (no markers)\",output_samples_frequency::Int64 = 0,\n",
       "printout_model_info=true,outputEBV=false)\n",
       "\\end{verbatim}\n",
       "Run MCMC (marker information included or not) with sampling of variance components.\n",
       "\n",
       "\\begin{itemize}\n",
       "\\item available \\textbf{methods} include \"conventional (no markers)\", \"RR-BLUP\", \"BayesB\", \"BayesC\".\n",
       "\n",
       "\n",
       "\\item save MCMC samples every \\textbf{output\\emph{samples}frequency} iterations to files \\textbf{output\\_file} defaulting to \\texttt{MCMC\\_samples}.\n",
       "\n",
       "\n",
       "\\item the first \\textbf{burnin} iterations are discarded at the beginning of an MCMC run\n",
       "\n",
       "\n",
       "\\item \\textbf{Pi} for single-trait analyses is a number; \\textbf{Pi} for multi-trait analyses is a dictionary such as \\texttt{Pi=Dict([1.0; 1.0]=>0.7,[1.0; 0.0]=>0.1,[0.0; 1.0]=>0.1,[0.0; 0.0]=>0.1)},\n",
       "\n",
       "\\begin{itemize}\n",
       "\\item if Pi (Π) is not provided in multi-trait analysis, it will be generated assuming all markers have effects on all traits.\n",
       "\n",
       "\\end{itemize}\n",
       "\n",
       "\\item \\textbf{starting\\_value} can be provided as a vector for all location parameteres except marker effects.\n",
       "\n",
       "\n",
       "\\item print out the monte carlo mean in REPL with \\textbf{printout\\_frequency}\n",
       "\n",
       "\n",
       "\\item \\textbf{constraint}=true if constrain residual covariances between traits to be zeros.\n",
       "\n",
       "\n",
       "\\item Individual EBVs are returned if \\textbf{outputEBV}=true.\n",
       "\n",
       "\\end{itemize}\n"
      ],
      "text/markdown": [
       "```\n",
       "runMCMC(mme,df;Pi=0.0,estimatePi=false,chain_length=1000,burnin = 0,starting_value=false,printout_frequency=100,\n",
       "missing_phenotypes=false,constraint=false,methods=\"conventional (no markers)\",output_samples_frequency::Int64 = 0,\n",
       "printout_model_info=true,outputEBV=false)\n",
       "```\n",
       "\n",
       "Run MCMC (marker information included or not) with sampling of variance components.\n",
       "\n",
       "  * available **methods** include \"conventional (no markers)\", \"RR-BLUP\", \"BayesB\", \"BayesC\".\n",
       "  * save MCMC samples every **output*samples*frequency** iterations to files **output_file** defaulting to `MCMC_samples`.\n",
       "  * the first **burnin** iterations are discarded at the beginning of an MCMC run\n",
       "  * **Pi** for single-trait analyses is a number; **Pi** for multi-trait analyses is a dictionary such as `Pi=Dict([1.0; 1.0]=>0.7,[1.0; 0.0]=>0.1,[0.0; 1.0]=>0.1,[0.0; 0.0]=>0.1)`,\n",
       "\n",
       "      * if Pi (Π) is not provided in multi-trait analysis, it will be generated assuming all markers have effects on all traits.\n",
       "  * **starting_value** can be provided as a vector for all location parameteres except marker effects.\n",
       "  * print out the monte carlo mean in REPL with **printout_frequency**\n",
       "  * **constraint**=true if constrain residual covariances between traits to be zeros.\n",
       "  * Individual EBVs are returned if **outputEBV**=true.\n"
      ],
      "text/plain": [
       "\u001b[36m  runMCMC(mme,df;Pi=0.0,estimatePi=false,chain_length=1000,burnin = 0,starting_value=false,printout_frequency=100,\u001b[39m\n",
       "\u001b[36m  missing_phenotypes=false,constraint=false,methods=\"conventional (no markers)\",output_samples_frequency::Int64 = 0,\u001b[39m\n",
       "\u001b[36m  printout_model_info=true,outputEBV=false)\u001b[39m\n",
       "\n",
       "  Run MCMC (marker information included or not) with sampling of variance\n",
       "  components.\n",
       "\n",
       "    •    available \u001b[1mmethods\u001b[22m include \"conventional (no markers)\", \"RR-BLUP\",\n",
       "        \"BayesB\", \"BayesC\".\n",
       "\n",
       "    •    save MCMC samples every \u001b[1moutput\u001b[4msamples\u001b[24mfrequency\u001b[22m iterations to files\n",
       "        \u001b[1moutput_file\u001b[22m defaulting to \u001b[36mMCMC_samples\u001b[39m.\n",
       "\n",
       "    •    the first \u001b[1mburnin\u001b[22m iterations are discarded at the beginning of an\n",
       "        MCMC run\n",
       "\n",
       "    •    \u001b[1mPi\u001b[22m for single-trait analyses is a number; \u001b[1mPi\u001b[22m for multi-trait\n",
       "        analyses is a dictionary such as \u001b[36mPi=Dict([1.0; 1.0]=>0.7,[1.0;\n",
       "        0.0]=>0.1,[0.0; 1.0]=>0.1,[0.0; 0.0]=>0.1)\u001b[39m,\n",
       "      \n",
       "          •    if Pi (Π) is not provided in multi-trait analysis, it\n",
       "              will be generated assuming all markers have effects on\n",
       "              all traits.\n",
       "\n",
       "    •    \u001b[1mstarting_value\u001b[22m can be provided as a vector for all location\n",
       "        parameteres except marker effects.\n",
       "\n",
       "    •    print out the monte carlo mean in REPL with \u001b[1mprintout_frequency\u001b[22m\n",
       "\n",
       "    •    \u001b[1mconstraint\u001b[22m=true if constrain residual covariances between traits\n",
       "        to be zeros.\n",
       "\n",
       "    •    Individual EBVs are returned if \u001b[1moutputEBV\u001b[22m=true."
      ]
     },
     "execution_count": 89,
     "metadata": {},
     "output_type": "execute_result"
    }
   ],
   "source": [
    "?runMCMC"
   ]
  },
  {
   "cell_type": "code",
   "execution_count": null,
   "metadata": {},
   "outputs": [],
   "source": [
    "?readdlm"
   ]
  },
  {
   "cell_type": "code",
   "execution_count": null,
   "metadata": {},
   "outputs": [],
   "source": []
  }
 ],
 "metadata": {
  "kernelspec": {
   "display_name": "Julia 0.7.0",
   "language": "julia",
   "name": "julia-0.7"
  },
  "language_info": {
   "file_extension": ".jl",
   "mimetype": "application/julia",
   "name": "julia",
   "version": "0.7.0"
  }
 },
 "nbformat": 4,
 "nbformat_minor": 2
}
