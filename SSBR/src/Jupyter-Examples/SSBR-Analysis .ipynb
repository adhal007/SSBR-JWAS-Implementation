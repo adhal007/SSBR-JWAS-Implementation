{
 "cells": [
  {
   "cell_type": "code",
   "execution_count": 1,
   "metadata": {},
   "outputs": [
    {
     "name": "stdout",
     "output_type": "stream",
     "text": [
      "\u001b[31mThe delimiter in pedigree_processed.txt is ','.\u001b[39m\n"
     ]
    },
    {
     "name": "stderr",
     "output_type": "stream",
     "text": [
      "\u001b[32mcoding pedigree... 100%|████████████████████████████████| Time: 0:00:00\u001b[39m\n",
      "\u001b[32mcalculating inbreeding...  86%|██████████████████████   |  ETA: 0:00:00\u001b[39m"
     ]
    },
    {
     "name": "stdout",
     "output_type": "stream",
     "text": [
      "Finished!\n"
     ]
    },
    {
     "name": "stderr",
     "output_type": "stream",
     "text": [
      "\r",
      "\u001b[32mcalculating inbreeding... 100%|█████████████████████████| Time: 0:00:01\u001b[39m\n"
     ]
    },
    {
     "name": "stdout",
     "output_type": "stream",
     "text": [
      "\u001b[31mThe delimiter in geno_processed.txt is ','.\u001b[39m\n",
      "\u001b[31mThe header (marker IDs) is provided in geno_processed.txt.\u001b[39m\n"
     ]
    },
    {
     "name": "stderr",
     "output_type": "stream",
     "text": [
      "┌ Warning: readtable is deprecated, use CSV.read from the CSV package instead\n",
      "│   caller = ip:0x0\n",
      "└ @ Core :-1\n"
     ]
    },
    {
     "name": "stdout",
     "output_type": "stream",
     "text": [
      "2999 markers on 5880 individuals were added.\n",
      "\n",
      "The prior for marker effects variance is calculated from the genetic variance and π.\n",
      "The mean of the prior for the marker effects variance is: 0.013378\n",
      "\n",
      "\n",
      "\u001b[0m\u001b[1mA Linear Mixed Model was build using model equations:\u001b[22m\n",
      "\n",
      "y = intercept\n",
      "\n",
      "\u001b[0m\u001b[1mModel Information:\u001b[22m\n",
      "\n",
      "Term            C/F          F/R            nLevels\n",
      "intercept       factor       fixed                1\n",
      "ϵ               factor       random            8320\n",
      "J               covariate    fixed                1\n",
      "\n",
      "\u001b[0m\u001b[1mMCMC Information:\u001b[22m\n",
      "\n",
      "methods                                      BayesC\n",
      "chain_length                                    100\n",
      "burnin                                            0\n",
      "estimatePi                                     true\n",
      "estimateScale                                 false\n",
      "starting_value                                false\n",
      "printout_frequency                              101\n",
      "output_samples_frequency                        100\n",
      "constraint                                    false\n",
      "missing_phenotypes                             true\n",
      "update_priors_frequency                           0\n",
      "\n",
      "\u001b[0m\u001b[1mHyper-parameters Information:\u001b[22m\n",
      "\n",
      "random effect variances (ϵ):                  [1.0]\n",
      "residual variances:                           1.000\n",
      "genetic variances (genomic):                  1.000\n",
      "marker effect variances:                      0.013\n",
      "π                                              0.95\n",
      "\n",
      "\u001b[0m\u001b[1mDegree of freedom for hyper-parameters:\u001b[22m\n",
      "\n",
      "residual variances:                           4.000\n",
      "iid random effect variances:                  4.000\n",
      "marker effect variances:                      4.000\n",
      "\n",
      "\n",
      "\n",
      "\u001b[32mThe file ../Analysis-Results\\MCMC_Samples_residual_variance.txt is created to save MCMC samples for residual_variance.\u001b[39m\n",
      "\u001b[32mThe file ../Analysis-Results\\MCMC_Samples_marker_effects_y.txt is created to save MCMC samples for marker_effects_y.\u001b[39m\n",
      "\u001b[32mThe file ../Analysis-Results\\MCMC_Samples_marker_effects_variances.txt is created to save MCMC samples for marker_effects_variances.\u001b[39m\n",
      "\u001b[32mThe file ../Analysis-Results\\MCMC_Samples_pi.txt is created to save MCMC samples for pi.\u001b[39m\n",
      "\u001b[32mThe file ../Analysis-Results\\MCMC_Samples_1:J.txt is created to save MCMC samples for 1:J.\u001b[39m\n",
      "\u001b[32mThe file ../Analysis-Results\\MCMC_Samples_1:ϵ.txt is created to save MCMC samples for 1:ϵ.\u001b[39m\n",
      "\u001b[32mThe file ../Analysis-Results\\MCMC_Samples_ϵ_variances.txt is created to save MCMC samples for ϵ_variances.\u001b[39m\n",
      "\u001b[32mThe file ../Analysis-Results\\MCMC_Samples_EBV_y.txt is created to save MCMC samples for EBV_y.\u001b[39m\n"
     ]
    },
    {
     "name": "stderr",
     "output_type": "stream",
     "text": [
      "\u001b[32mrunning MCMC for BayesC...100%|█████████████████████████| Time: 0:00:05\u001b[39m\n"
     ]
    },
    {
     "name": "stdout",
     "output_type": "stream",
     "text": [
      "Compute the posterior probability of association of the genomic window that explains more than 0.05 of the total genetic variance\n"
     ]
    }
   ],
   "source": [
    "using JWAS,DataFrames,CSV, LinearAlgebra, DelimitedFiles, JWAS.misc, XSimPreProcess\n",
    "\n",
    "## input file reading consideration for JWAS-SSBR :\n",
    "## read io streams of 1) phenotype file 2) Obs_ID files for ID's to be tested\n",
    "## io streams of 1) genotype file 2) map file 3) pedigree file to keep as iostream\n",
    "## process map file using XSimPreProcess since it is generated from XSim (array format different from JWAS)\n",
    "## save processed map file, then input the mapfile as io\n",
    "## read mapfile as iosteam\n",
    "\n",
    "phenofile  = \"../../Processed-Data\\\\\\\\pheno_processed.txt\" #Datasets.dataset\n",
    "phenotypes1 = CSV.read(phenofile,delim = ',',header=true)\n",
    "obs_ID = readdlm(\"../../Processed-Data\\\\Obs_ID.txt\")\n",
    "mapfile = \"../../Raw-Data\\\\map_XSim_Raw.txt\";\n",
    "genofile   = \"../../Processed-Data\\\\geno_processed.txt\"#Datasets.dataset\n",
    "pedfile = \"../../Processed-Data\\\\pedigree_processed.txt\"\n",
    "\n",
    "## processing and reading mapfile as formatted iostream\n",
    "new_map = process_map(mapfile)\n",
    "processed_map = open(\"../../Processed-Data\\\\new_map_file_processed.txt\", \"w\");\n",
    "writedlm(processed_map, new_map)\n",
    "close(processed_map)\n",
    "newmapfile = \"../../Processed-Data\\\\new_map_file_processed.txt\"\n",
    "\n",
    "\n",
    "## Run JWAS with \n",
    "pedigree=get_pedigree(pedfile,separator=\",\",header=true)\n",
    "model_equation1  =\"y = intercept\";\n",
    "R      = 1.0\n",
    "model1 = build_model(model_equation1,R);\n",
    "G3 =1.0\n",
    "g = add_genotypes(model1,genofile,G3, separator=',', header=true);\n",
    "outputEBV(model1, obs_ID);\n",
    "outputMCMCsamples(model1)\n",
    "out2=runMCMC(model1, phenotypes1, Pi=0.95,estimatePi=true,methods=\"BayesC\",single_step_analysis=true,\n",
    "             pedigree=pedigree, chain_length=100,output_samples_frequency=100,outputEBV=true, output_samples_file=\"../Analysis-Results\\\\MCMC_Samples\");\n",
    "keys(out2)\n",
    "\n",
    "\n",
    "## WPPA \n",
    "mrkr_file = \"../Analysis-Results\\\\MCMC_Samples_marker_effects_y.txt\";\n",
    "g = GWAS(mrkr_file, newmapfile, model1, header=true, window_size=\"1 MB\", threshold=0.05)\n",
    "g\n",
    "writedlm(\"../Analysis-Results\\\\WPPA-results.txt\", g)"
   ]
  },
  {
   "cell_type": "code",
   "execution_count": null,
   "metadata": {},
   "outputs": [],
   "source": []
  }
 ],
 "metadata": {
  "kernelspec": {
   "display_name": "Julia 0.7.0",
   "language": "julia",
   "name": "julia-0.7"
  },
  "language_info": {
   "file_extension": ".jl",
   "mimetype": "application/julia",
   "name": "julia",
   "version": "0.7.0"
  }
 },
 "nbformat": 4,
 "nbformat_minor": 2
}
